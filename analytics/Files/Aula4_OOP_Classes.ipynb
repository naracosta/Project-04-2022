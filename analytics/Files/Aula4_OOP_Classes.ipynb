{
 "cells": [
  {
   "cell_type": "markdown",
   "metadata": {},
   "source": [
    "## Everything you need to know about Classes in Python! (Keith Galli)"
   ]
  },
  {
   "cell_type": "markdown",
   "metadata": {},
   "source": [
    "### Defining our first class in Python\n",
    "- \"Safe from bugs, Easy to Undestand, Ready for Chance\""
   ]
  },
  {
   "cell_type": "code",
   "execution_count": 1,
   "metadata": {},
   "outputs": [
    {
     "name": "stdout",
     "output_type": "stream",
     "text": [
      "4\n",
      "Square\n",
      "5\n",
      "Pentagon\n"
     ]
    }
   ],
   "source": [
    "class Polygon: # Nome da classe é Polyhon\n",
    "    def __init__(self, sides, name): #o primeiro parametro sempre é 'self', os outros parametro você escolhe (nesse caso: sides é o numero de lados e nome é o nome que vc quer dar)\n",
    "        self.sides = sides #sides é igual a sides\n",
    "        self.name = name   #name é igual a name\n",
    "\n",
    "square = Polygon(4, \"Square\") #square é o que queremos definir: o primeiro parametro é sides e o segundo é name\n",
    "pentagon = Polygon(5, \"Pentagon\")\n",
    "\n",
    "print(square.sides) #vai imprimir a quantidade de lados de um square\n",
    "print(square.name)  #vai imprimir o nome\n",
    "\n",
    "print(pentagon.sides)\n",
    "print(pentagon.name)"
   ]
  },
  {
   "cell_type": "markdown",
   "metadata": {},
   "source": [
    "### Class methods"
   ]
  },
  {
   "cell_type": "code",
   "execution_count": 3,
   "metadata": {},
   "outputs": [],
   "source": [
    "import turtle #biblioteca para visualização\n",
    "\n",
    "class Polygon: \n",
    "    def __init__(self, sides, name):\n",
    "        self.sides = sides \n",
    "        self.name = name   \n",
    "        \n",
    "    def draw(self): #ao colocar o self, vamos poder acessar os parametros anteriores mais facilmente\n",
    "        \n",
    "        \n",
    "square = Polygon(4, \"Square\")  \n",
    "pentagon = Polygon(5, \"Pentagon\")"
   ]
  },
  {
   "cell_type": "code",
   "execution_count": null,
   "metadata": {},
   "outputs": [],
   "source": [
    "\n"
   ]
  },
  {
   "cell_type": "code",
   "execution_count": null,
   "metadata": {},
   "outputs": [],
   "source": []
  },
  {
   "cell_type": "code",
   "execution_count": null,
   "metadata": {},
   "outputs": [],
   "source": [
    "\n"
   ]
  },
  {
   "cell_type": "code",
   "execution_count": null,
   "metadata": {},
   "outputs": [],
   "source": []
  },
  {
   "cell_type": "code",
   "execution_count": null,
   "metadata": {},
   "outputs": [],
   "source": []
  },
  {
   "cell_type": "code",
   "execution_count": null,
   "metadata": {},
   "outputs": [],
   "source": []
  },
  {
   "cell_type": "code",
   "execution_count": null,
   "metadata": {
    "scrolled": true
   },
   "outputs": [],
   "source": []
  },
  {
   "cell_type": "code",
   "execution_count": null,
   "metadata": {},
   "outputs": [],
   "source": []
  },
  {
   "cell_type": "code",
   "execution_count": null,
   "metadata": {},
   "outputs": [],
   "source": []
  },
  {
   "cell_type": "code",
   "execution_count": null,
   "metadata": {},
   "outputs": [],
   "source": []
  },
  {
   "cell_type": "code",
   "execution_count": null,
   "metadata": {},
   "outputs": [],
   "source": []
  }
 ],
 "metadata": {
  "interpreter": {
   "hash": "a3596bf6bd313b0d54e77ecee54a840c3d36cdd605cf756522bad1862e906968"
  },
  "kernelspec": {
   "display_name": "Python 3 (ipykernel)",
   "language": "python",
   "name": "python3"
  },
  "language_info": {
   "codemirror_mode": {
    "name": "ipython",
    "version": 3
   },
   "file_extension": ".py",
   "mimetype": "text/x-python",
   "name": "python",
   "nbconvert_exporter": "python",
   "pygments_lexer": "ipython3",
   "version": "3.9.5"
  }
 },
 "nbformat": 4,
 "nbformat_minor": 2
}
