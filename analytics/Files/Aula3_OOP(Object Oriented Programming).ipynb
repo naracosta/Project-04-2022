{
 "cells": [
  {
   "cell_type": "markdown",
   "metadata": {},
   "source": [
    "# OOP (Object Oriented Programming)\n",
    "\n",
    "        "
   ]
  },
  {
   "cell_type": "markdown",
   "metadata": {},
   "source": [
    "## Programação orientada a objetos (Eduardo Mendes)"
   ]
  },
  {
   "cell_type": "code",
   "execution_count": 36,
   "metadata": {},
   "outputs": [
    {
     "name": "stdout",
     "output_type": "stream",
     "text": [
      "['João', 'Antonio'] ['Lurdes']\n"
     ]
    }
   ],
   "source": [
    "class Fila:\n",
    "    \n",
    "    def __init__(self):\n",
    "        self.fila = [] #isso vai fazer com que cada 'nome' tenha uma fila diferente\n",
    "    \n",
    "    def entrar(self, nome):\n",
    "        self.fila.append(nome) #adiciona os nomes na lista\n",
    "    \n",
    "    def sair(self):\n",
    "        self.fila.pop(0) #vai remover o primeiro elemento a chegar na fila [x,y,z] --> remove o z\n",
    "        \n",
    "supermercado = Fila() #atribuiu a fila a variável supermercado\n",
    "supermercado.entrar('João') #joão entrou na lista\n",
    "supermercado.entrar('Antonio')  #antonio entrou na lista fila (que é o supermercado)\n",
    "#print(supermercado.fila) #vai mostrar a fila do supermercado\n",
    "\n",
    "#supermercado.sair() #vai remover o primeiro a entrar no supermercado, isto é, o João. Se for executado novamente, vai remover o Antonio\n",
    "#print(supermercado.fila) #vai mostrar a fila \n",
    "\n",
    "#Parte2-com o __init__\n",
    "loja = Fila()\n",
    "loja.entrar(\"Lurdes\")\n",
    "print(supermercado.fila, loja.fila) #vamos ter filas diferentes, por conta do init\n"
   ]
  },
  {
   "cell_type": "markdown",
   "metadata": {},
   "source": [
    "### Manipulando a classe I"
   ]
  },
  {
   "cell_type": "code",
   "execution_count": 40,
   "metadata": {},
   "outputs": [
    {
     "name": "stdout",
     "output_type": "stream",
     "text": [
      "['Ana']\n",
      "['Ana', 'Fernando']\n",
      "['Ana', 'Fernando', 'Amanda']\n",
      "['Ana', 'Fernando', 'Amanda']\n"
     ]
    }
   ],
   "source": [
    "class Fila:  #abstração de quaalquer tipo de fila\n",
    "    c_fila = []  #lista vazia (fila da classe) --> atributo *da classe* (vamos trabalhar primeiro apenas com a classe)\n",
    "\n",
    "    @classmethod #método da classe\n",
    "    def c_entrar(cls, obj): #vai entrar na fila sem instancia\n",
    "        cls.c_fila.append(obj) #com o append o obj vai entrar na fila\n",
    "        print(cls.c_fila) #vai printar a fila\n",
    "    \n",
    "    def __init__(self): # iniciador da classe\n",
    "        self.s_fila = []  #s_fila da instância\n",
    "    \n",
    "    \n",
    "\n",
    "Fila.c_entrar(\"Ana\") #A Ana vai entrar na fila da classe\n",
    "Fila.c_entrar(\"Fernando\") \n",
    "Fila.c_entrar(\"Amanda\")\n",
    "\n",
    "supermercado = Fila() #supermercado vai herdar todas as pessoas que entraram na Fila da classe\n",
    "\n",
    "print(supermercado.c_fila)  "
   ]
  },
  {
   "cell_type": "markdown",
   "metadata": {},
   "source": [
    "### Manipulando a Classe II\n"
   ]
  },
  {
   "cell_type": "code",
   "execution_count": 60,
   "metadata": {},
   "outputs": [
    {
     "name": "stdout",
     "output_type": "stream",
     "text": [
      "['Eduardo'] ['Ana']\n",
      "['Eduardo'] ['Luana']\n",
      "['Eduardo'] ['Luiz']\n"
     ]
    }
   ],
   "source": [
    "class Fila:  #abstração de quaalquer tipo de fila\n",
    "    c_fila = []  #lista vazia (fila da classe) --> atributo *da classe* (vamos trabalhar primeiro apenas com a classe)\n",
    "\n",
    "    @classmethod #método da classe (muda o comportamento de todas as instancias dentro dessa classe)\n",
    "    def c_entrar(cls, obj): #vai entrar na fila sem instancia\n",
    "        cls.c_fila.append(obj) #com o append o obj vai entrar na fila\n",
    "        \n",
    "    \n",
    "    def __init__(self): # iniciador da classe\n",
    "        self.s_fila = []  #s_fila da instância\n",
    "    \n",
    "    def s_entrar(self,obj):\n",
    "        self.s_fila.append(obj)\n",
    "        #self.c_fila.append(obj) #vai fazer uma cópia de quem entrou e adicionar na classe\n",
    "    \n",
    "banco = Fila()\n",
    "supermercado = Fila()\n",
    "loja = Fila()\n",
    "\n",
    "banco.c_entrar(\"Eduardo\") #como está entrando na classe, o eduardo tbm estára na fila da loja e do supermercado \n",
    "banco.s_entrar(\"Ana\")\n",
    "supermercado.s_entrar(\"Luana\")\n",
    "loja.s_entrar(\"Luiz\")\n",
    "\n",
    "\n",
    "print(banco.c_fila, banco.s_fila)  #mostra a fila da classe e a fila do banco\n",
    "print(supermercado.c_fila, supermercado.s_fila)\n",
    "print(loja.c_fila, loja.s_fila)"
   ]
  },
  {
   "cell_type": "markdown",
   "metadata": {},
   "source": [
    "### Manipulando Instância"
   ]
  },
  {
   "cell_type": "code",
   "execution_count": 75,
   "metadata": {},
   "outputs": [
    {
     "name": "stdout",
     "output_type": "stream",
     "text": [
      "mussarela\n",
      "5\n",
      "8\n"
     ]
    }
   ],
   "source": [
    "class Pizza:\n",
    "    pedaços = 8\n",
    "    \n",
    "    def __init__(self, sabor):\n",
    "        self.sabor = sabor\n",
    "        \n",
    "    def pegar_pedaços(self): #método de instância\n",
    "            self.pedaços -= 1 #(pega ele mesmo e subtrai 1)\n",
    "    \n",
    "mussarela = Pizza(\"mussarela\") #temos um sabor dentro da classe pizza, igual ao que vc fez no init\n",
    "\n",
    "mussarela.pegar_pedaços() #vc vai pegar um pedaço da instancia mussarela\n",
    "mussarela.pegar_pedaços() \n",
    "mussarela.pegar_pedaços() \n",
    "\n",
    "print(mussarela.sabor) #mostra o sabor da pizza (isto é, a instancia)\n",
    "print(mussarela.pedaços) #mostra quantos pedaços a instancia tem\n",
    "print(Pizza.pedaços) #mostra quantas pedaços a classe tem\n",
    "        "
   ]
  },
  {
   "cell_type": "code",
   "execution_count": 85,
   "metadata": {},
   "outputs": [
    {
     "name": "stdout",
     "output_type": "stream",
     "text": [
      "Quantidade de pedaços da mussarela: 7\n",
      "Quantidade de pedaços antes: 8\n",
      "Quantidade de pedaços da mussarela: 7\n",
      "Quantidade de pedaços depois: 12\n"
     ]
    }
   ],
   "source": [
    "class Pizza:\n",
    "    pedaços = 8\n",
    "    \n",
    "    def __init__(self, sabor):\n",
    "        self.sabor = sabor\n",
    "        \n",
    "    def pegar_pedaços(self): #método de instância\n",
    "            self.pedaços -= 1 #(pega ele mesmo e subtrai 1)\n",
    "    \n",
    "    @classmethod #metodo da classe\n",
    "    def mudar_tamanho(cls,pedaços): #vai modificar a classe\n",
    "        cls.pedaços = pedaços #com esse comando, vc vai poder mudar o valor da variavel pedaços\n",
    "    \n",
    "mussarela = Pizza(\"mussarela\") #temos um sabor dentro da classe pizza, igual ao que vc fez no init\n",
    "mussarela.pegar_pedaços()\n",
    "\n",
    "print(\"Quantidade de pedaços da mussarela:\",mussarela.pedaços)\n",
    "print(\"Quantidade de pedaços antes:\",Pizza.pedaços) #mostra quantas pedaços a classe tem\n",
    "\n",
    "\n",
    "Pizza.mudar_tamanho(12) #mudando o tamanho da Pizza para 12 pedaços\n",
    "\n",
    "print(\"Quantidade de pedaços da mussarela:\",mussarela.pedaços) #mussarela continua com 7 pedaços\n",
    "print(\"Quantidade de pedaços depois:\",Pizza.pedaços) #vai mostrar a nova quantidade de pedaços da pizza\n",
    "\n"
   ]
  },
  {
   "cell_type": "code",
   "execution_count": 87,
   "metadata": {},
   "outputs": [
    {
     "name": "stdout",
     "output_type": "stream",
     "text": [
      "Molho de tomate, queijo, cebola\n"
     ]
    }
   ],
   "source": [
    "class Pizza:\n",
    "    pedaços = 8\n",
    "    \n",
    "    def __init__(self, sabor):\n",
    "        self.sabor = sabor\n",
    "        \n",
    "    def pegar_pedaços(self): #método de instância\n",
    "            self.pedaços -= 1 #(pega ele mesmo e subtrai 1)\n",
    "    \n",
    "    @classmethod #metodo da classe\n",
    "    def mudar_tamanho(cls,pedaços): #vai modificar a classe\n",
    "        cls.pedaços = pedaços\n",
    "        \n",
    "    @staticmethod #método estático --> não faz referencia ou nao interage com nada da classe\n",
    "    def ingredientes():\n",
    "        return \"Molho de tomate, queijo, cebola\"\n",
    "    \n",
    "print(Pizza.ingredientes())"
   ]
  },
  {
   "cell_type": "markdown",
   "metadata": {},
   "source": [
    "### HERANÇA\n",
    "- HERANÇA → Se um tipo de dado puder herdar a abstração de tipo (atributos) e as abstrações e operações (métodos) de um tipo já existente e também for permitido mudar/adicionar pequenas coisas, a reutilização será facilitada e a classe inicial não precisará ser modificada.\n",
    "\n",
    "- Vantagens:\n",
    "       - Reutilização de código\n",
    "       - Tipos de tipos abstratos podem ser construidos para solucionar problemas\n"
   ]
  },
  {
   "cell_type": "code",
   "execution_count": 95,
   "metadata": {},
   "outputs": [
    {
     "name": "stdout",
     "output_type": "stream",
     "text": [
      "10\n",
      "8\n",
      "8\n",
      "8\n"
     ]
    }
   ],
   "source": [
    "class Pizza:\n",
    "    pedaços = 8\n",
    "    \n",
    "    @classmethod #metodo da classe\n",
    "    def mudar_tamanho(cls,pedaços): #vai modificar a classe\n",
    "        cls.pedaços = pedaços\n",
    "        \n",
    "class Mussarela(Pizza): #vai herdar todos as instancias a atributos da classe Pizza\n",
    "    ...\n",
    "    \n",
    "class Calabresa(Pizza): #vai herdar todos as instancias a atributos da classe Pizza\n",
    "    ...\n",
    "    \n",
    "class MeioAMeio(Mussarela, Calabresa): #herda de mussarela e calabresa\n",
    "    ...\n",
    "    \n",
    "MeioAMeio.mudar_tamanho(10) #mudando a quantidade de pedaços da classe meioameio (isso nao vai mudar as outras classes)\n",
    "\n",
    "print(MeioAMeio.pedaços)\n",
    "print(Mussarela.pedaços)\n",
    "print(Calabresa.pedaços)\n",
    "print(Pizza.pedaços)"
   ]
  },
  {
   "cell_type": "markdown",
   "metadata": {},
   "source": [
    "### POLIMORFISMO\n",
    "- É o comportamento de sobrescrever um método de uma classe:\n",
    "- No exemplo abaixo, vc sobrescreve a instacia ingredientes, pois cada nova classe de pizza possui um ingrediente diferente"
   ]
  },
  {
   "cell_type": "code",
   "execution_count": 108,
   "metadata": {},
   "outputs": [
    {
     "name": "stdout",
     "output_type": "stream",
     "text": [
      "Ingredientes\n",
      "['queijo', 'molho de tomate', 'orégano', '...']\n",
      "Ingredientes\n"
     ]
    }
   ],
   "source": [
    "class Pizza:\n",
    "    pedaços = 8\n",
    "    \n",
    "    @classmethod #metodo da classe\n",
    "    def mudar_tamanho(cls,pedaços): #vai modificar a classe\n",
    "        cls.pedaços = pedaços\n",
    "        \n",
    "    @staticmethod\n",
    "    def ingredientes():\n",
    "        return 'Ingredientes'\n",
    "    \n",
    "class Mussarela(Pizza): \n",
    "    @staticmethod\n",
    "    def ingredientes(): #aplicando polimorfismo: sobrescrevendo o atributo ingrediente da pizza\n",
    "        return [\"queijo\", \"molho de tomate\", \"orégano\", \"...\"]\n",
    "    \n",
    "class Calabresa(Pizza): \n",
    "    ...\n",
    "    \n",
    "class MeioAMeio(Mussarela, Calabresa): \n",
    "    ... \n",
    "\n",
    "print(Pizza.ingredientes())\n",
    "print(Mussarela.ingredientes())\n",
    "print(Calabresa.ingredientes())\n",
    "    "
   ]
  },
  {
   "cell_type": "markdown",
   "metadata": {},
   "source": [
    "### Composição e métodos mágicos"
   ]
  },
  {
   "cell_type": "code",
   "execution_count": 175,
   "metadata": {},
   "outputs": [
    {
     "name": "stdout",
     "output_type": "stream",
     "text": [
      "<__main__.Forno object at 0x000002246A255070>\n",
      "Não há lenha\n"
     ]
    }
   ],
   "source": [
    "class Pizzaria:\n",
    "    def __init__(self):\n",
    "        self._forno = Forno() #_forno vai encapsular (ocultar)\n",
    "       \n",
    "    \n",
    "    def pedido(self, pizza):\n",
    "        self._forno.assar(pizza)      \n",
    "\n",
    "class Forno: \n",
    "    def __init__(self):\n",
    "        self.lenha = None\n",
    "        \n",
    "    def assar(self, pizza):\n",
    "        if not self.lenha:\n",
    "            print(\"Não há lenha\")\n",
    "      \n",
    "        \n",
    "pizza_planet =  Pizzaria()   \n",
    "print(pizza_planet._forno) #vai retornar o objeto forno que está oculto\n",
    "\n",
    "pizza_planet.pedido(\"Musarela\")"
   ]
  }
 ],
 "metadata": {
  "interpreter": {
   "hash": "a3596bf6bd313b0d54e77ecee54a840c3d36cdd605cf756522bad1862e906968"
  },
  "kernelspec": {
   "display_name": "Python 3 (ipykernel)",
   "language": "python",
   "name": "python3"
  },
  "language_info": {
   "codemirror_mode": {
    "name": "ipython",
    "version": 3
   },
   "file_extension": ".py",
   "mimetype": "text/x-python",
   "name": "python",
   "nbconvert_exporter": "python",
   "pygments_lexer": "ipython3",
   "version": "3.9.5"
  }
 },
 "nbformat": 4,
 "nbformat_minor": 2
}
