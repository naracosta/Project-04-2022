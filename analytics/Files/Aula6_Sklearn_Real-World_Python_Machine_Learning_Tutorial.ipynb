{
 "cells": [
  {
   "cell_type": "code",
   "execution_count": 36,
   "metadata": {},
   "outputs": [],
   "source": [
    "import numpy as np\n",
    "import pandas as pd\n",
    "import matplotlib.pyplot as plt\n",
    "import json"
   ]
  },
  {
   "cell_type": "markdown",
   "metadata": {},
   "source": [
    "# SKLEARN (lib)"
   ]
  },
  {
   "cell_type": "markdown",
   "metadata": {},
   "source": [
    "### Machine Learning Process\n",
    "- What question are we trying to answer? \n",
    "- find data to help answer question \n",
    "- Process data\n",
    "- Build Model \n",
    "- Evaluate Model \n",
    "- Improve Model Further"
   ]
  },
  {
   "cell_type": "code",
   "execution_count": 37,
   "metadata": {},
   "outputs": [
    {
     "name": "stdout",
     "output_type": "stream",
     "text": [
      "{\"reviewerID\": \"A1F2H80A1ZNN1N\", \"asin\": \"B00GDM3NQC\", \"reviewerName\": \"Connie Correll\", \"helpful\": [0, 0], \"reviewText\": \"I bought both boxed sets, books 1-5.  Really a great series!  Start book 1 three weeks ago and just finished book 5.  Sloane Monroe is a great character and being able to follow her through both private life and her PI life gets a reader very involved!  Although clues may be right in front of the reader, there are twists and turns that keep one guessing until the last page!  These are books you won't be disappointed with.\", \"overall\": 5.0, \"summary\": \"Can't stop reading!\", \"unixReviewTime\": 1390435200, \"reviewTime\": \"01 23, 2014\"}\n",
      "\n"
     ]
    }
   ],
   "source": [
    "import json\n",
    "\n",
    "file_name= './dataframes/SKLEARN/Books_small_10000.json' #caminho do arquivo json\n",
    "\n",
    "with open(file_name) as f:\n",
    "    for line in f:\n",
    "        print(line) # vai printar a primeira linha do json (no seu arquivo)\n",
    "        break  #para o loop em apenas uma linha"
   ]
  },
  {
   "cell_type": "code",
   "execution_count": 38,
   "metadata": {},
   "outputs": [
    {
     "name": "stdout",
     "output_type": "stream",
     "text": [
      "I bought both boxed sets, books 1-5.  Really a great series!  Start book 1 three weeks ago and just finished book 5.  Sloane Monroe is a great character and being able to follow her through both private life and her PI life gets a reader very involved!  Although clues may be right in front of the reader, there are twists and turns that keep one guessing until the last page!  These are books you won't be disappointed with.\n",
      "5.0\n"
     ]
    }
   ],
   "source": [
    "file_name= './dataframes/SKLEARN/Books_small_10000.json' #caminho do arquivo json\n",
    "\n",
    "\n",
    "with open(file_name) as f:\n",
    "    for line in f:\n",
    "        review = json.loads(line) #usado para converter json string no python\n",
    "        print(review['reviewText']) #vai printar apenas a coluna de review\n",
    "        print(review['overall']) #vai printar a coluna de nota\n",
    "        \n",
    "        break  "
   ]
  },
  {
   "cell_type": "markdown",
   "metadata": {},
   "source": [
    "### Criando uma classe"
   ]
  },
  {
   "cell_type": "code",
   "execution_count": 53,
   "metadata": {},
   "outputs": [
    {
     "name": "stdout",
     "output_type": "stream",
     "text": [
      "NEGATIVE\n",
      "a fruta é muito boa\n",
      "2\n"
     ]
    }
   ],
   "source": [
    "import random\n",
    "\n",
    "class Sentiment:\n",
    "    NEGATIVE = \"NEGATIVE\"\n",
    "    NEUTRAL = \"NEUTRAL\"\n",
    "    POSITIVE = \"POSITIVE\"\n",
    "    \n",
    "\n",
    "class Review:\n",
    "    def __init__(self, text, score):\n",
    "        self.text = text #atributo texto \n",
    "        self.score = score  #atributo score \n",
    "        self.sentiment = self.get_sentiment() #sentimento da classe\n",
    "    \n",
    "    def get_sentiment(self): #método\n",
    "        if self.score <=2:\n",
    "            #return \"NEGATIVE\" #é uma forma de retornar negativo, mas vamos usar outra levando em consideração a classe sentiment\n",
    "            return Sentiment.NEGATIVE\n",
    "        elif self.score == 3:\n",
    "            return Sentiment.NEUTRAL\n",
    "        else: #score 4 ou 5\n",
    "            return Sentiment.POSITIVE\n",
    "        \n",
    "#criando uma classe para igualar os valores de positivo e negativos\n",
    "class ReviewContainer:\n",
    "    def __init__(self, reviews):\n",
    "        self.reviews = reviews\n",
    "        \n",
    "    def get_text(self):\n",
    "        return [x.text for x in self.reviews]\n",
    "    \n",
    "    def get_sentiment(self):\n",
    "        return [x.sentiment for x in self.reviews]\n",
    "        \n",
    "    def evenly_distribute(self): #MÉTODO de distribuição uniforme, para igualar as quatidades de dados que temos em posive e negative\n",
    "        negative = list(filter(lambda x: x.sentiment == Sentiment.NEGATIVE, self.reviews)) #vai filtrar todos os exemplos negativos da lista review e colocar dentro de uma lista\n",
    "        positive = list(filter(lambda x: x.sentiment == Sentiment.POSITIVE, self.reviews)) #vai filtrar todos os exemplos positivos da lista review e colocar dentro de uma lista\n",
    "        positive_shrunk = positive[:len(negative)] #reduzir os exemplos positivos para que se iguale a quantidade de exemplos negativos\n",
    "        self.reviews = negative + positive_shrunk #juntar as duas novas listas: lista de review negativa e lista de review positiva que foi reduzida\n",
    "        random.shuffle(self.reviews)  #vai embaralhar os dados \n",
    "    \n",
    "        \n",
    "sentimento = Review(\"a fruta é muito boa\", 2)\n",
    "print(sentimento.sentiment)\n",
    "print(sentimento.text)\n",
    "print(sentimento.score)"
   ]
  },
  {
   "cell_type": "code",
   "execution_count": 54,
   "metadata": {},
   "outputs": [
    {
     "name": "stdout",
     "output_type": "stream",
     "text": [
      "POSITIVE\n",
      "5.0\n",
      "I hoped for Mia to have some peace in this book, but her story is so real and raw.  Broken World was so touching and emotional because you go from Mia's trauma to her trying to cope.  I love the way the story displays how there is no \"just bouncing back\" from being sexually assaulted.  Mia showed us how those demons come for you every day and how sometimes they best you. I was so in the moment with Broken World and hurt with Mia because she was surrounded by people but so alone and I understood her feelings.  I found myself wishing I could give her some of my courage and strength or even just to be there for her.  Thank you Lizzy for putting a great character's voice on a strong subject and making it so that other peoples story may be heard through Mia's.\n"
     ]
    }
   ],
   "source": [
    "file_name= './dataframes/SKLEARN/Books_small_10000.json' #caminho do arquivo json\n",
    "\n",
    "reviews = [] #criando uma lista vazia chamada reviews (onde vai ser adicionado os valores do loop)\n",
    "with open(file_name) as f:\n",
    "    for line in f:\n",
    "        review = json.loads(line) #usado para converter json string no python\n",
    "        reviews.append(Review(review['reviewText'], review['overall'])) #vai adicionar na lista valores de cada linha do json que serão delimitados por '()' #o Review é uma classe onde o primeiro termo é text e o segundo termo é o score (que é exatamente o que colocamos dentro dele)\n",
    "        \n",
    "#reviews[0:2]  #mostra o item 0 e o item 1\n",
    "print(reviews[5].sentiment)  #mostra o score da classe da linha 5 (se vc mudar para text, vai mostrar o texto de review)\n",
    "print(reviews[5].score)\n",
    "print(reviews[5].text)"
   ]
  },
  {
   "cell_type": "markdown",
   "metadata": {},
   "source": [
    "### Converting text to numerical vectors (Prep Data)"
   ]
  },
  {
   "cell_type": "code",
   "execution_count": 69,
   "metadata": {},
   "outputs": [
    {
     "name": "stdout",
     "output_type": "stream",
     "text": [
      "None\n"
     ]
    }
   ],
   "source": [
    "# sklearn train test split\n",
    "\n",
    "#vai dividir os dados em treinamento e teste\n",
    "from sklearn.model_selection import train_test_split \n",
    "\n",
    "training, test = train_test_split(reviews, test_size=0.33, random_state=42) #dica: shift+tab mostra os parametro que irão dentro da função\n",
    "#test_size: 0,33% das reviews serão teste o os 66% serão treinamento\n",
    "\n",
    "train_container = ReviewContainer(training) #vai pegar a base de treino total e aplicar a classe ReviewContainer\n",
    "\n",
    "test_container = ReviewContainer(test) #vai pegar a base de treino total e aplicar o método da nova classe que vc criou\n",
    "\n"
   ]
  },
  {
   "cell_type": "code",
   "execution_count": 76,
   "metadata": {},
   "outputs": [
    {
     "name": "stdout",
     "output_type": "stream",
     "text": [
      "436\n",
      "436\n"
     ]
    }
   ],
   "source": [
    "train_container.evenly_distribute() #vai deixar a quantidade de dados iguais #evenly_distribute() é o metodo da nova classe\n",
    "train_x = train_container.get_text()\n",
    "train_y = train_container.get_sentiment()\n",
    "\n",
    "test_container.evenly_distribute()\n",
    "test_x = test_container.get_text()\n",
    "test_y = test_container.get_sentiment()\n",
    "\n",
    "print(train_y.count(Sentiment.POSITIVE))\n",
    "print(train_y.count(Sentiment.NEGATIVE))\n",
    "\n",
    "\n"
   ]
  },
  {
   "cell_type": "markdown",
   "metadata": {},
   "source": [
    "### Bag of words vectorization (Extrair recursos de arquivos de texto)"
   ]
  },
  {
   "cell_type": "code",
   "execution_count": 96,
   "metadata": {
    "scrolled": true
   },
   "outputs": [
    {
     "name": "stdout",
     "output_type": "stream",
     "text": [
      "The description of Detroit is an eye opener for this Michigander who hasn't been there for awhile.  Really sad.  The story did some flip flopping but was easily followed.  While set mostly in the L.P. (I read Alex McKnight because the stories are usually set in the U.P.), the reader gets to know his back story with this novel.  A really good read.\n",
      "[[0. 0. 0. ... 0. 0. 0.]]\n"
     ]
    }
   ],
   "source": [
    "from sklearn.feature_extraction.text import CountVectorizer,  TfidfVectorizer\n",
    "\n",
    "# TfidfVectorizer --> faz com que as palavras que aparecem muito tenha um peso menor do que as palavras que aparecem uma vez ou outra\n",
    "#ex: this book is great, this book was so bad --> a palavra this aparece mais vezes, logo seu peso será menor\n",
    "\n",
    "vectorizer = TfidfVectorizer() #dá peso maior na hora de vetorizar as palavras que aparecem menos\n",
    "#vectorizer = CountVectorizer() \n",
    "train_x_vectors = vectorizer.fit_transform(train_x)\n",
    "\n",
    "test_x_vectors = vectorizer.transform(test_x)\n",
    "\n",
    "print(train_x[0]) #mensagem de texto\n",
    "print(train_x_vectors[0].toarray()) #mensagem de texto transformada em vetor\n"
   ]
  },
  {
   "cell_type": "markdown",
   "metadata": {},
   "source": [
    "### Classification"
   ]
  },
  {
   "cell_type": "markdown",
   "metadata": {},
   "source": [
    "#### Linear SVM"
   ]
  },
  {
   "cell_type": "code",
   "execution_count": 97,
   "metadata": {},
   "outputs": [
    {
     "data": {
      "text/plain": [
       "array(['POSITIVE'], dtype='<U8')"
      ]
     },
     "execution_count": 97,
     "metadata": {},
     "output_type": "execute_result"
    }
   ],
   "source": [
    "#Support Vector Machine\n",
    "from sklearn import svm\n",
    "\n",
    "clf_svm = svm.SVC(kernel='linear') #kernel executa e analisa o código do usuário\n",
    "\n",
    "clf_svm.fit(train_x_vectors, train_y) #esse comando vai fazer o classificador SVM treinar os dados \n",
    "\n",
    "test_x[0] #mostra o texto contido na linha 0\n",
    "#train_x_vectors[0]\n",
    "clf_svm.predict(train_x_vectors[0]) #mostra a previsão do sentimento"
   ]
  },
  {
   "cell_type": "markdown",
   "metadata": {},
   "source": [
    "#### Decision Tree"
   ]
  },
  {
   "cell_type": "code",
   "execution_count": 127,
   "metadata": {},
   "outputs": [
    {
     "data": {
      "text/plain": [
       "array(['POSITIVE'], dtype='<U8')"
      ]
     },
     "execution_count": 127,
     "metadata": {},
     "output_type": "execute_result"
    }
   ],
   "source": [
    "from sklearn.tree import DecisionTreeClassifier\n",
    "\n",
    "clf_dec = DecisionTreeClassifier()\n",
    "clf_dec.fit(train_x_vectors, train_y)\n",
    "clf_dec.predict(train_x_vectors[0])"
   ]
  },
  {
   "cell_type": "markdown",
   "metadata": {},
   "source": [
    "##### Naive Bayes"
   ]
  },
  {
   "cell_type": "code",
   "execution_count": 146,
   "metadata": {},
   "outputs": [
    {
     "data": {
      "text/plain": [
       "GaussianNB()"
      ]
     },
     "execution_count": 146,
     "metadata": {},
     "output_type": "execute_result"
    }
   ],
   "source": [
    "from sklearn.naive_bayes import GaussianNB ## *******\n",
    "\n",
    "clf_gnb = GaussianNB()\n",
    "clf_gnb.fit(train_x_vectors.toarray(), train_y)\n",
    "#clf_gnb.predict(train_x_vectors.toarray())"
   ]
  },
  {
   "cell_type": "markdown",
   "metadata": {},
   "source": [
    "##### Logistic Regression"
   ]
  },
  {
   "cell_type": "code",
   "execution_count": 100,
   "metadata": {},
   "outputs": [
    {
     "data": {
      "text/plain": [
       "array(['POSITIVE'], dtype='<U8')"
      ]
     },
     "execution_count": 100,
     "metadata": {},
     "output_type": "execute_result"
    }
   ],
   "source": [
    "from sklearn.linear_model import LogisticRegression\n",
    "\n",
    "clf_log = LogisticRegression() ##da pra colocar o peso do dado dentro: ex: clf_log = LogisticRegression(class_weight=\"Balanced\")\n",
    "clf_log.fit(train_x_vectors, train_y)\n",
    "\n",
    "clf_log.predict(test_x_vectors[0])"
   ]
  },
  {
   "cell_type": "markdown",
   "metadata": {},
   "source": [
    "### Evaluation"
   ]
  },
  {
   "cell_type": "code",
   "execution_count": 145,
   "metadata": {},
   "outputs": [
    {
     "name": "stdout",
     "output_type": "stream",
     "text": [
      "0.8076923076923077\n",
      "0.6634615384615384\n",
      "0.6610576923076923\n",
      "0.8052884615384616\n"
     ]
    }
   ],
   "source": [
    "# Mean Accuracy # Acurácia: proximidade entre o valor obtido experimentalmente e o valor verdadeiro na medição de uma grandeza física.\n",
    "print(clf_svm.score(test_x_vectors, test_y)) #score vai medir a acurácia de cada método\n",
    "print(clf_dec.score(test_x_vectors, test_y)) #aqui vc coloca a amostra de teste!\n",
    "print(clf_gnb.score(test_x_vectors.toarray(), test_y))\n",
    "print(clf_log.score(test_x_vectors, test_y))"
   ]
  },
  {
   "cell_type": "code",
   "execution_count": 84,
   "metadata": {},
   "outputs": [
    {
     "name": "stdout",
     "output_type": "stream",
     "text": [
      "[0.8028169  0.79310345]\n",
      "[0.82051282 0.         0.808933  ]\n",
      "[0.65411765 0.         0.63882064]\n"
     ]
    },
    {
     "name": "stderr",
     "output_type": "stream",
     "text": [
      "c:\\users\\aluga.com\\appdata\\local\\programs\\python\\python39\\lib\\site-packages\\sklearn\\metrics\\_classification.py:1580: UndefinedMetricWarning: F-score is ill-defined and being set to 0.0 in labels with no true nor predicted samples. Use `zero_division` parameter to control this behavior.\n",
      "  _warn_prf(average, \"true nor predicted\", \"F-score is\", len(true_sum))\n",
      "c:\\users\\aluga.com\\appdata\\local\\programs\\python\\python39\\lib\\site-packages\\sklearn\\metrics\\_classification.py:1580: UndefinedMetricWarning: F-score is ill-defined and being set to 0.0 in labels with no true nor predicted samples. Use `zero_division` parameter to control this behavior.\n",
      "  _warn_prf(average, \"true nor predicted\", \"F-score is\", len(true_sum))\n"
     ]
    }
   ],
   "source": [
    "# F1 Scores F1 é definido como a média harmônica de precisão e revocação.\n",
    "from sklearn.metrics import f1_score\n",
    "\n",
    "print(f1_score(test_y, clf_svm.predict(test_x_vectors), average=None, labels=[Sentiment.POSITIVE, Sentiment.NEGATIVE]))\n",
    "print(f1_score(test_y, clf_log.predict(test_x_vectors), average=None, labels=[Sentiment.POSITIVE, Sentiment.NEUTRAL, Sentiment.NEGATIVE]))\n",
    "\n",
    "#test - primeiro parametro que é a resposta\n",
    "#segundo parametro é o teste que ele vai prever\n",
    "#label vai dizer a porcentagem de cadA um. No primeiro print, temos 91% de positivo e 22% de negativo; no segundo prit temos 91% de positivo, 12% de neutral e 10% de negativo\n",
    "\n",
    "#no primeiro print, percebemos que o modelo é ruim para os casos de neutro e negativo --> o modelo é bom em prever positivo mas deixa a desejar ao prever neutral e negativo\n",
    "\n",
    "#OUTROS MODELOS:\n",
    "print(f1_score(test_y, clf_dec.predict(test_x_vectors), average=None, labels=[Sentiment.POSITIVE, Sentiment.NEUTRAL, Sentiment.NEGATIVE]))\n",
    "\n"
   ]
  },
  {
   "cell_type": "code",
   "execution_count": 102,
   "metadata": {
    "scrolled": true
   },
   "outputs": [
    {
     "name": "stdout",
     "output_type": "stream",
     "text": [
      "436\n",
      "436\n",
      "0\n",
      "208\n",
      "208\n",
      "0\n"
     ]
    }
   ],
   "source": [
    "print(train_y.count(Sentiment.POSITIVE)) #vai contar quantos valores de Positivo tem nos exemplos de teste\n",
    "print(train_y.count(Sentiment.NEGATIVE))\n",
    "print(train_y.count(Sentiment.NEUTRAL))\n",
    "\n",
    "print(test_y.count(Sentiment.POSITIVE)) \n",
    "print(test_y.count(Sentiment.NEGATIVE))\n",
    "print(test_y.count(Sentiment.NEUTRAL))"
   ]
  },
  {
   "cell_type": "code",
   "execution_count": 103,
   "metadata": {},
   "outputs": [
    {
     "data": {
      "text/plain": [
       "array(['POSITIVE', 'NEGATIVE', 'NEGATIVE', 'POSITIVE', 'POSITIVE'],\n",
       "      dtype='<U8')"
      ]
     },
     "execution_count": 103,
     "metadata": {},
     "output_type": "execute_result"
    }
   ],
   "source": [
    "test_set = ['very fun', \"bad book do not buy\", 'horrible waste of time', ' this book is nice', 'amazing book']\n",
    "new_test = vectorizer.transform(test_set)\n",
    "\n",
    "clf_svm.predict(new_test)"
   ]
  },
  {
   "cell_type": "markdown",
   "metadata": {},
   "source": [
    "### Turning our model (with Grid Search)\n",
    "- GridSearchCv to automatically find the best parameters"
   ]
  },
  {
   "cell_type": "code",
   "execution_count": 114,
   "metadata": {},
   "outputs": [
    {
     "data": {
      "text/plain": [
       "GridSearchCV(cv=5, estimator=SVC(),\n",
       "             param_grid={'C': (1, 4, 8, 16, 32), 'kernel': ('linear', 'rbf')})"
      ]
     },
     "execution_count": 114,
     "metadata": {},
     "output_type": "execute_result"
    }
   ],
   "source": [
    "from sklearn.model_selection import GridSearchCV #TESTANDO o melhor parametro para sua base de dados\n",
    "\n",
    "parameters = {'kernel': ('linear', 'rbf'), 'C': (1,4,8,16,32)}\n",
    "\n",
    "svc = svm.SVC()\n",
    "clf = GridSearchCV(svc, parameters, cv=5) #o primeiro termo é o classificador que vc quer usar e o segundo termo sao os parametros\n",
    "\n",
    "clf.fit(train_x_vectors, train_y)\n",
    "\n",
    "#best_parameters_\n",
    "#ordena o score\n"
   ]
  },
  {
   "cell_type": "code",
   "execution_count": 115,
   "metadata": {},
   "outputs": [
    {
     "name": "stdout",
     "output_type": "stream",
     "text": [
      "0.8076923076923077\n"
     ]
    }
   ],
   "source": [
    "print(clf_svm.score(test_x_vectors, test_y))"
   ]
  },
  {
   "cell_type": "markdown",
   "metadata": {},
   "source": [
    "### Saving Model"
   ]
  },
  {
   "cell_type": "markdown",
   "metadata": {},
   "source": [
    "#### Save model\n"
   ]
  },
  {
   "cell_type": "code",
   "execution_count": 116,
   "metadata": {},
   "outputs": [],
   "source": [
    "import pickle\n",
    "\n",
    "with open('./dataframes/SKLEARN/models/sentiment_classifier.pkl', 'wb') as f:\n",
    "    pickle.dump(clf, f) #pega o classificador e despeja todos os parametro no arquivo acima de vc criou"
   ]
  },
  {
   "cell_type": "markdown",
   "metadata": {},
   "source": [
    "#### Load model"
   ]
  },
  {
   "cell_type": "code",
   "execution_count": 117,
   "metadata": {},
   "outputs": [],
   "source": [
    "with open('./dataframes/SKLEARN/models/sentiment_classifier.pkl', 'rb') as f:\n",
    "    loaded_clf = pickle.load(f)"
   ]
  },
  {
   "cell_type": "code",
   "execution_count": 157,
   "metadata": {},
   "outputs": [
    {
     "name": "stdout",
     "output_type": "stream",
     "text": [
      "This book is full of inspiring ideas to use in enjoying the outdoors to a fuller and more creative extent.\n"
     ]
    },
    {
     "data": {
      "text/plain": [
       "array(['POSITIVE'], dtype='<U8')"
      ]
     },
     "execution_count": 157,
     "metadata": {},
     "output_type": "execute_result"
    }
   ],
   "source": [
    "print(test_x[400])\n",
    "\n",
    "loaded_clf.predict(test_x_vectors[400])"
   ]
  },
  {
   "cell_type": "code",
   "execution_count": null,
   "metadata": {},
   "outputs": [],
   "source": []
  }
 ],
 "metadata": {
  "interpreter": {
   "hash": "a3596bf6bd313b0d54e77ecee54a840c3d36cdd605cf756522bad1862e906968"
  },
  "kernelspec": {
   "display_name": "Python 3 (ipykernel)",
   "language": "python",
   "name": "python3"
  },
  "language_info": {
   "codemirror_mode": {
    "name": "ipython",
    "version": 3
   },
   "file_extension": ".py",
   "mimetype": "text/x-python",
   "name": "python",
   "nbconvert_exporter": "python",
   "pygments_lexer": "ipython3",
   "version": "3.9.5"
  }
 },
 "nbformat": 4,
 "nbformat_minor": 2
}
