{
 "cells": [
  {
   "cell_type": "markdown",
   "metadata": {},
   "source": [
    "## Everything you need to know about Classes in Python! (Keith Galli)"
   ]
  },
  {
   "cell_type": "markdown",
   "metadata": {},
   "source": [
    "### Defining our first class in Python\n",
    "- \"Safe from bugs, Easy to Undestand, Ready for Chance\""
   ]
  },
  {
   "cell_type": "code",
   "execution_count": 1,
   "metadata": {},
   "outputs": [
    {
     "name": "stdout",
     "output_type": "stream",
     "text": [
      "4\n",
      "Square\n",
      "5\n",
      "Pentagon\n"
     ]
    }
   ],
   "source": [
    "class Polygon: # Nome da classe é Polyhon\n",
    "    def __init__(self, sides, name): #o primeiro parametro sempre é 'self', os outros parametro você escolhe (nesse caso: sides é o numero de lados e nome é o nome que vc quer dar)\n",
    "        self.sides = sides #sides é igual a sides\n",
    "        self.name = name   #name é igual a name\n",
    "\n",
    "square = Polygon(4, \"Square\") #square é o que queremos definir: o primeiro parametro é sides e o segundo é name\n",
    "pentagon = Polygon(5, \"Pentagon\")\n",
    "\n",
    "print(square.sides) #vai imprimir a quantidade de lados de um square\n",
    "print(square.name)  #vai imprimir o nome\n",
    "\n",
    "print(pentagon.sides)\n",
    "print(pentagon.name)"
   ]
  },
  {
   "cell_type": "markdown",
   "metadata": {},
   "source": [
    "### Class methods"
   ]
  },
  {
   "cell_type": "code",
   "execution_count": 8,
   "metadata": {},
   "outputs": [
    {
     "name": "stdout",
     "output_type": "stream",
     "text": [
      "<turtle.Turtle object at 0x0000011ABCD5B520>\n"
     ]
    }
   ],
   "source": []
  },
  {
   "cell_type": "code",
   "execution_count": 6,
   "metadata": {},
   "outputs": [
    {
     "name": "stdout",
     "output_type": "stream",
     "text": [
      "4\n",
      "Square\n",
      "360\n",
      "90.0\n",
      "5\n",
      "Pentagon\n"
     ]
    }
   ],
   "source": [
    "import turtle #biblioteca para visualização\n",
    "\n",
    "class Polygon: \n",
    "    def __init__(self, sides, name):\n",
    "        self.sides = sides \n",
    "        self.name = name  \n",
    "        self.interior_angles = (self.sides-2)*180  #definir uma propriedade de angulo interno de um poligono (tem formula que calcula isso)\n",
    "        self.angle = self.interior_angles/self.sides #continuação da formula: ((n-2)*180)/n\n",
    "        \n",
    "        \n",
    "    def draw(self): #ao colocar o self, vamos poder acessar os parametros anteriores mais facilmente\n",
    "        for i in range(self.sides): #vai pegar qualquer numero que for passado no init sides\n",
    "            turtle.forward(100) #100 pixels\n",
    "            turtle.right(180-self.angle) #angulo interno dp poligono do loop\n",
    "        turtle.done()\n",
    "        \n",
    "square = Polygon(4, \"Square\")  \n",
    "pentagon = Polygon(5, \"Pentagon\")\n",
    "\n",
    "print(square.sides) #vai imprimir a quantidade de lados de um square\n",
    "print(square.name)  #vai imprimir o nome\n",
    "print(square.interior_angles) #vai imprimir a soma de todos os angulos\n",
    "print(square.angle) #vai imprimir o valor do angulo interno\n",
    "\n",
    "print(pentagon.sides)\n",
    "print(pentagon.name)\n",
    "\n",
    "square.draw()"
   ]
  },
  {
   "cell_type": "markdown",
   "metadata": {},
   "source": [
    "### Passing in default keyword arguments"
   ]
  },
  {
   "cell_type": "code",
   "execution_count": 1,
   "metadata": {},
   "outputs": [
    {
     "name": "stdout",
     "output_type": "stream",
     "text": [
      "4\n",
      "Square\n",
      "360\n",
      "90.0\n",
      "100\n"
     ]
    }
   ],
   "source": [
    "import turtle #biblioteca para visualização\n",
    "\n",
    "class Polygon: \n",
    "    def __init__(self, sides, name, size=100, color=\"red\", line_thickness=2): #size=tamanho (pré-estabelecido)\n",
    "        self.sides = sides \n",
    "        self.name = name  \n",
    "        self.size = size\n",
    "        self.color = color\n",
    "        self.line_thickness = line_thickness\n",
    "        self.interior_angles = (self.sides-2)*180  #definir uma propriedade de angulo interno de um poligono (tem formula que calcula isso)\n",
    "        self.angle = self.interior_angles/self.sides #continuação da formula: ((n-2)*180)/n\n",
    "        \n",
    "        \n",
    "    def draw(self): #ao colocar o self, vamos poder acessar os parametros anteriores mais facilmente\n",
    "        turtle.color(self.color)\n",
    "        turtle.pensize(self.line_thickness)\n",
    "        for i in range(self.sides): #vai pegar qualquer numero que for passado no init sides\n",
    "            turtle.forward(self.size) #tamanho\n",
    "            turtle.right(180-self.angle) #angulo interno dp poligono do loop\n",
    "        turtle.done()\n",
    "        \n",
    "square = Polygon(4, \"Square\")  #não precisa colocar todos os parametros, pois alguns já foram pré estabelecidos: size=100 e color='red'\n",
    "pentagon = Polygon(5, \"Pentagon\", color=\"red\")\n",
    "\n",
    "print(square.sides) #vai imprimir a quantidade de lados de um square\n",
    "print(square.name)  #vai imprimir o nome\n",
    "print(square.interior_angles) #vai imprimir a soma de todos os angulos\n",
    "print(square.angle) #vai imprimir o valor do angulo interno\n",
    "print(square.size)\n",
    "\n",
    "\n",
    "pentagon.draw()"
   ]
  },
  {
   "cell_type": "markdown",
   "metadata": {},
   "source": [
    "### Subclassing"
   ]
  },
  {
   "cell_type": "code",
   "execution_count": 22,
   "metadata": {},
   "outputs": [
    {
     "name": "stdout",
     "output_type": "stream",
     "text": [
      "4\n",
      "90.0\n",
      "360\n",
      "None\n"
     ]
    }
   ],
   "source": [
    "import turtle #biblioteca para visualização\n",
    "\n",
    "class Polygon: \n",
    "    def __init__(self, sides, name, size=100, color=\"red\", line_thickness=2): #size=tamanho (pré-estabelecido)\n",
    "        self.sides = sides \n",
    "        self.name = name  \n",
    "        self.size = size\n",
    "        self.color = color\n",
    "        self.line_thickness = line_thickness\n",
    "        self.interior_angles = (self.sides-2)*180  #definir uma propriedade de angulo interno de um poligono (tem formula que calcula isso)\n",
    "        self.angle = self.interior_angles/self.sides #continuação da formula: ((n-2)*180)/n\n",
    "        \n",
    "        \n",
    "    def draw(self): #ao colocar o self, vamos poder acessar os parametros anteriores mais facilmente\n",
    "        turtle.color(self.color)\n",
    "        turtle.pensize(self.line_thickness)\n",
    "        for i in range(self.sides): #vai pegar qualquer numero que for passado no init sides\n",
    "            turtle.forward(self.size) #tamanho\n",
    "            turtle.right(180-self.angle) #angulo interno dp poligono do loop\n",
    "        turtle.done()\n",
    "        \n",
    "\n",
    "class Square(Polygon):\n",
    "    def __init__(self,size=100, color=\"red\", line_thickness=2):\n",
    "        super().__init__(4, \"Square\", size, color, line_thickness) #vamos ter o metodo de inicializçaõ do poligono e vamos passar os atributos do quadrado e dps os atributos do poligono regular\n",
    "         #super é um método em python que permite chamar o método definido na superclasse(classe mãe, ou classe primeira)   \n",
    "\n",
    "class Pentagon(Polygon):\n",
    "    def __init__(self,size=100, color=\"red\", line_thickness=2):\n",
    "        super().__init__(5, \"Pentagon\", size, color, line_thickness)         \n",
    "\n",
    "square = Square(color=\"#123abc\", size=200)\n",
    "pentagon = Pentagon()\n",
    "\n",
    "print(square.sides)\n",
    "print(square.angle)\n",
    "print(square.interior_angles)\n",
    "\n",
    "print(pentagon.draw()) #vai desenhar o pentagono\n",
    "#print(square.draw()) #vai desenhar o quadrado"
   ]
  },
  {
   "cell_type": "markdown",
   "metadata": {},
   "source": [
    "### Class method overriding"
   ]
  },
  {
   "cell_type": "code",
   "execution_count": 1,
   "metadata": {},
   "outputs": [
    {
     "name": "stdout",
     "output_type": "stream",
     "text": [
      "None\n"
     ]
    }
   ],
   "source": [
    "import turtle #biblioteca para visualização\n",
    "\n",
    "class Polygon: \n",
    "    def __init__(self, sides, name, size=100, color=\"red\", line_thickness=2): #size=tamanho (pré-estabelecido)\n",
    "        self.sides = sides \n",
    "        self.name = name  \n",
    "        self.size = size\n",
    "        self.color = color\n",
    "        self.line_thickness = line_thickness\n",
    "        self.interior_angles = (self.sides-2)*180  #definir uma propriedade de angulo interno de um poligono (tem formula que calcula isso)\n",
    "        self.angle = self.interior_angles/self.sides #continuação da formula: ((n-2)*180)/n\n",
    "        \n",
    "        \n",
    "    def draw(self): #ao colocar o self, vamos poder acessar os parametros anteriores mais facilmente\n",
    "        turtle.color(self.color)\n",
    "        turtle.pensize(self.line_thickness)\n",
    "        for i in range(self.sides): #vai pegar qualquer numero que for passado no init sides\n",
    "            turtle.forward(self.size) #tamanho\n",
    "            turtle.right(180-self.angle) #angulo interno dp poligono do loop\n",
    "        \n",
    "        \n",
    "\n",
    "class Square(Polygon):\n",
    "    def __init__(self,size=100, color=\"red\", line_thickness=2):\n",
    "        super().__init__(4, \"Square\", size, color, line_thickness)\n",
    "        \n",
    "    def draw(self):\n",
    "        turtle.begin_fill()\n",
    "        super().draw() #vai copiar o método draw da classe Polygon\n",
    "        turtle.end_fill() #vai preencher o poligono\n",
    "\n",
    "square = Square(color=\"#123abc\", size=200)\n",
    "print(square.draw()) \n",
    "turtle.done()\n",
    "        "
   ]
  },
  {
   "cell_type": "code",
   "execution_count": null,
   "metadata": {
    "scrolled": true
   },
   "outputs": [],
   "source": []
  },
  {
   "cell_type": "code",
   "execution_count": null,
   "metadata": {},
   "outputs": [],
   "source": []
  },
  {
   "cell_type": "code",
   "execution_count": null,
   "metadata": {},
   "outputs": [],
   "source": []
  },
  {
   "cell_type": "code",
   "execution_count": null,
   "metadata": {},
   "outputs": [],
   "source": []
  },
  {
   "cell_type": "code",
   "execution_count": null,
   "metadata": {},
   "outputs": [],
   "source": []
  }
 ],
 "metadata": {
  "interpreter": {
   "hash": "a3596bf6bd313b0d54e77ecee54a840c3d36cdd605cf756522bad1862e906968"
  },
  "kernelspec": {
   "display_name": "Python 3 (ipykernel)",
   "language": "python",
   "name": "python3"
  },
  "language_info": {
   "codemirror_mode": {
    "name": "ipython",
    "version": 3
   },
   "file_extension": ".py",
   "mimetype": "text/x-python",
   "name": "python",
   "nbconvert_exporter": "python",
   "pygments_lexer": "ipython3",
   "version": "3.9.5"
  }
 },
 "nbformat": 4,
 "nbformat_minor": 2
}
