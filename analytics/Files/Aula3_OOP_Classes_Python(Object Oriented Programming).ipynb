{
 "cells": [
  {
   "cell_type": "markdown",
   "metadata": {},
   "source": [
    "# OOP (Object Oriented Programming)\n",
    "\n",
    "        "
   ]
  },
  {
   "cell_type": "markdown",
   "metadata": {},
   "source": [
    "## Programação orientada a objetos (Eduardo Mendes)"
   ]
  },
  {
   "cell_type": "code",
   "execution_count": 36,
   "metadata": {},
   "outputs": [
    {
     "name": "stdout",
     "output_type": "stream",
     "text": [
      "['João', 'Antonio'] ['Lurdes']\n"
     ]
    }
   ],
   "source": [
    "class Fila:\n",
    "    \n",
    "    def __init__(self):\n",
    "        self.fila = [] #isso vai fazer com que cada 'nome' tenha uma fila diferente\n",
    "    \n",
    "    def entrar(self, nome):\n",
    "        self.fila.append(nome) #adiciona os nomes na lista\n",
    "    \n",
    "    def sair(self):\n",
    "        self.fila.pop(0) #vai remover o primeiro elemento a chegar na fila [x,y,z] --> remove o z\n",
    "        \n",
    "supermercado = Fila() #atribuiu a fila a variável supermercado\n",
    "supermercado.entrar('João') #joão entrou na lista\n",
    "supermercado.entrar('Antonio')  #antonio entrou na lista fila (que é o supermercado)\n",
    "#print(supermercado.fila) #vai mostrar a fila do supermercado\n",
    "\n",
    "#supermercado.sair() #vai remover o primeiro a entrar no supermercado, isto é, o João. Se for executado novamente, vai remover o Antonio\n",
    "#print(supermercado.fila) #vai mostrar a fila \n",
    "\n",
    "#Parte2-com o __init__\n",
    "loja = Fila()\n",
    "loja.entrar(\"Lurdes\")\n",
    "print(supermercado.fila, loja.fila) #vamos ter filas diferentes, por conta do init\n"
   ]
  },
  {
   "cell_type": "code",
   "execution_count": 40,
   "metadata": {},
   "outputs": [
    {
     "name": "stdout",
     "output_type": "stream",
     "text": [
      "['Ana']\n",
      "['Ana', 'Fernando']\n",
      "['Ana', 'Fernando', 'Amanda']\n",
      "['Ana', 'Fernando', 'Amanda']\n"
     ]
    }
   ],
   "source": [
    "class Fila:  #abstração de quaalquer tipo de fila\n",
    "    c_fila = []  #lista vazia (fila da classe) --> atributo *da classe* (vamos trabalhar primeiro apenas com a classe)\n",
    "\n",
    "    @classmethod #método da classe\n",
    "    def c_entrar(cls, obj): #vai entrar na fila sem instancia\n",
    "        cls.c_fila.append(obj) #com o append o obj vai entrar na fila\n",
    "        print(cls.c_fila) #vai printar a fila\n",
    "    \n",
    "    def __init__(self): # iniciador da classe\n",
    "        self.s_fila = []  #s_fila da instância\n",
    "    \n",
    "    \n",
    "\n",
    "Fila.c_entrar(\"Ana\") #A Ana vai entrar na fila da classe\n",
    "Fila.c_entrar(\"Fernando\") \n",
    "Fila.c_entrar(\"Amanda\")\n",
    "\n",
    "supermercado = Fila() #supermercado vai herdar todas as pessoas que entraram na Fila da classe\n",
    "\n",
    "print(supermercado.c_fila)  "
   ]
  },
  {
   "cell_type": "code",
   "execution_count": 45,
   "metadata": {},
   "outputs": [
    {
     "name": "stdout",
     "output_type": "stream",
     "text": [
      "['Eduardo']\n",
      "['Eduardo']\n",
      "['Eduardo']\n"
     ]
    }
   ],
   "source": [
    "class Fila:  #abstração de quaalquer tipo de fila\n",
    "    c_fila = []  #lista vazia (fila da classe) --> atributo *da classe* (vamos trabalhar primeiro apenas com a classe)\n",
    "\n",
    "    @classmethod #método da classe\n",
    "    def c_entrar(cls, obj): #vai entrar na fila sem instancia\n",
    "        cls.c_fila.append(obj) #com o append o obj vai entrar na fila\n",
    "        \n",
    "    \n",
    "    def __init__(self): # iniciador da classe\n",
    "        self.s_fila = []  #s_fila da instância\n",
    "    \n",
    "banco = Fila()\n",
    "supermercado = Fila()\n",
    "loja = Fila()\n",
    "\n",
    "banco.c_entrar(\"Eduardo\") #como está entrando na classe, o eduardo tbm estára na fila da loja e do supermercado \n",
    "\n",
    "\n",
    "print(loja.c_fila)  \n",
    "print(supermercado.c_fila)\n",
    "print(loja.c_fila)"
   ]
  },
  {
   "cell_type": "markdown",
   "metadata": {},
   "source": [
    "## Everything you need to know about Classes in Python! (Keith Galli)"
   ]
  },
  {
   "cell_type": "markdown",
   "metadata": {},
   "source": [
    "### Defining our first class in Python\n",
    "- \"Safe from bugs, Easy to Undestand, Ready for Chance\""
   ]
  },
  {
   "cell_type": "code",
   "execution_count": 3,
   "metadata": {},
   "outputs": [
    {
     "name": "stdout",
     "output_type": "stream",
     "text": [
      "4\n",
      "Square\n",
      "5\n",
      "Pentagon\n"
     ]
    }
   ],
   "source": [
    "class Polygon: # Nome da classe é Polyhon\n",
    "    def __init__(self, sides, name): #o primeiro parametro sempre é 'self', os outros parametro você escolhe (nesse caso: sides é o numero de lados e nome é o nome que vc quer dar)\n",
    "        self.sides = sides #sides é igual a sides\n",
    "        self.name = name   #name é igual a name\n",
    "\n",
    "square = Polygon(4, \"Square\") #square é o que queremos definir: o primeiro parametro é sides e o segundo é name\n",
    "pentagon = Polygon(5, \"Pentagon\")\n",
    "\n",
    "print(square.sides) #vai imprimir a quantidade de lados de um square\n",
    "print(square.name)  #vai imprimir o nome\n",
    "\n",
    "print(pentagon.sides)\n",
    "print(pentagon.name)"
   ]
  },
  {
   "cell_type": "markdown",
   "metadata": {},
   "source": [
    "### Class methods"
   ]
  },
  {
   "cell_type": "code",
   "execution_count": 5,
   "metadata": {},
   "outputs": [],
   "source": [
    "import turtle #biblioteca para visualização\n",
    "\n",
    "class Polygon: \n",
    "    def __init__(self, sides, name):\n",
    "        self.sides = sides \n",
    "        self.name = name   \n",
    "        \n",
    "    def draw(self): #ao colocar o self, vamos poder acessar os parametros anteriores mais facilmente\n",
    "        \n",
    "        \n",
    "square = Polygon(4, \"Square\")  \n",
    "pentagon = Polygon(5, \"Pentagon\")"
   ]
  },
  {
   "cell_type": "code",
   "execution_count": null,
   "metadata": {},
   "outputs": [],
   "source": []
  },
  {
   "cell_type": "code",
   "execution_count": null,
   "metadata": {},
   "outputs": [],
   "source": [
    "\n"
   ]
  }
 ],
 "metadata": {
  "interpreter": {
   "hash": "a3596bf6bd313b0d54e77ecee54a840c3d36cdd605cf756522bad1862e906968"
  },
  "kernelspec": {
   "display_name": "Python 3 (ipykernel)",
   "language": "python",
   "name": "python3"
  },
  "language_info": {
   "codemirror_mode": {
    "name": "ipython",
    "version": 3
   },
   "file_extension": ".py",
   "mimetype": "text/x-python",
   "name": "python",
   "nbconvert_exporter": "python",
   "pygments_lexer": "ipython3",
   "version": "3.9.5"
  }
 },
 "nbformat": 4,
 "nbformat_minor": 2
}
